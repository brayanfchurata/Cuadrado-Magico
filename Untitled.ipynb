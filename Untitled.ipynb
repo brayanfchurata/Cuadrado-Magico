{
 "cells": [
  {
   "cell_type": "code",
   "execution_count": 1,
   "id": "f46816ae",
   "metadata": {},
   "outputs": [
    {
     "name": "stdout",
     "output_type": "stream",
     "text": [
      "[6, 1, 8]\n",
      "[7, 5, 3]\n",
      "[2, 9, 4]\n"
     ]
    }
   ],
   "source": [
    "# Verifica si el cuadrado actual es un cuadrado mágico\n",
    "def es_magico(cuadrado):\n",
    "    n = len(cuadrado)\n",
    "    suma = sum(cuadrado[0])  # Suma objetivo (fila 0)\n",
    "    \n",
    "    # Verificar filas\n",
    "    for fila in cuadrado:\n",
    "        if sum(fila) != suma:\n",
    "            return False\n",
    "\n",
    "    # Verificar columnas\n",
    "    for col in range(n):\n",
    "        if sum(cuadrado[fila][col] for fila in range(n)) != suma:\n",
    "            return False\n",
    "\n",
    "    # Verificar diagonales\n",
    "    if sum(cuadrado[i][i] for i in range(n)) != suma or sum(cuadrado[i][n - 1 - i] for i in range(n)) != suma:\n",
    "        return False\n",
    "\n",
    "    return True\n",
    "\n",
    "# Resuelve el problema de los cuadrados mágicos utilizando backtracking\n",
    "def resolver_cuadrado(cuadrado, nums, pos):\n",
    "    n = len(cuadrado)\n",
    "    if pos == len(nums):  # Caso base: todos los números han sido colocados\n",
    "        return es_magico(cuadrado)\n",
    "\n",
    "    for i in range(n):\n",
    "        for j in range(n):\n",
    "            if cuadrado[i][j] == 0:  # Si la celda está vacía\n",
    "                cuadrado[i][j] = nums[pos]  # Colocar el número\n",
    "                if resolver_cuadrado(cuadrado, nums, pos + 1):\n",
    "                    return True\n",
    "                cuadrado[i][j] = 0  # Deshacer movimiento (backtracking)\n",
    "\n",
    "    return False\n",
    "\n",
    "# Configuración inicial\n",
    "n = 3  # Tamaño del cuadrado mágico\n",
    "cuadrado = [[0 for _ in range(n)] for _ in range(n)]  # Tablero vacío\n",
    "nums = list(range(1, n * n + 1))  # Números del 1 al n^2\n",
    "\n",
    "# Resolver y mostrar el resultado\n",
    "if resolver_cuadrado(cuadrado, nums, 0):\n",
    "    for fila in cuadrado:\n",
    "        print(fila)\n",
    "else:\n",
    "    print(\"No hay solución\")\n"
   ]
  },
  {
   "cell_type": "code",
   "execution_count": null,
   "id": "f2c70930",
   "metadata": {},
   "outputs": [],
   "source": []
  }
 ],
 "metadata": {
  "kernelspec": {
   "display_name": "Python 3 (ipykernel)",
   "language": "python",
   "name": "python3"
  },
  "language_info": {
   "codemirror_mode": {
    "name": "ipython",
    "version": 3
   },
   "file_extension": ".py",
   "mimetype": "text/x-python",
   "name": "python",
   "nbconvert_exporter": "python",
   "pygments_lexer": "ipython3",
   "version": "3.8.10"
  }
 },
 "nbformat": 4,
 "nbformat_minor": 5
}
